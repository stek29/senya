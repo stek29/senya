{
  "nbformat": 4,
  "nbformat_minor": 0,
  "metadata": {
    "colab": {
      "name": "senya.ipynb",
      "provenance": []
    },
    "kernelspec": {
      "name": "python3",
      "display_name": "Python 3"
    },
    "language_info": {
      "name": "python"
    }
  },
  "cells": [
    {
      "cell_type": "code",
      "metadata": {
        "id": "TluXsgfdHkoQ"
      },
      "source": [
        "!pip install face-recognition"
      ],
      "execution_count": null,
      "outputs": []
    },
    {
      "cell_type": "code",
      "metadata": {
        "id": "QlNujXUdHo1C"
      },
      "source": [
        "!test -f lfw.tgz || wget http://vis-www.cs.umass.edu/lfw/lfw.tgz\n",
        "!tar -xf lfw.tgz"
      ],
      "execution_count": null,
      "outputs": []
    },
    {
      "cell_type": "code",
      "metadata": {
        "id": "smg1PQUTJ56b"
      },
      "source": [
        "from google.colab import drive\n",
        "drive.mount('/content/drive')"
      ],
      "execution_count": null,
      "outputs": []
    },
    {
      "cell_type": "code",
      "metadata": {
        "id": "WASZpdNQKuin"
      },
      "source": [
        "import face_recognition.api as face_recognition\n",
        "import numpy as np"
      ],
      "execution_count": null,
      "outputs": []
    },
    {
      "cell_type": "code",
      "metadata": {
        "id": "d2fcjwjSK2NV"
      },
      "source": [
        "import glob"
      ],
      "execution_count": null,
      "outputs": []
    },
    {
      "cell_type": "code",
      "metadata": {
        "id": "SAHYDX34MEVI"
      },
      "source": [
        "files = {}\n",
        "\n",
        "for f in glob.glob('/content/drive/MyDrive/senya/data/*'):\n",
        "  nam = f.rsplit('/', 1)[1].split('@', 1)[0]\n",
        "  files[nam] = f"
      ],
      "execution_count": null,
      "outputs": []
    },
    {
      "cell_type": "code",
      "metadata": {
        "id": "5AhD8gIDMJ8r"
      },
      "source": [
        "faces = {}\n",
        "\n",
        "for k, v in files.items():\n",
        "  pic = face_recognition.load_image_file(v)\n",
        "  loc = face_recognition.face_locations(pic, number_of_times_to_upsample=0, model='cnn')\n",
        "  print(f'{k} loaded, got {len(loc)} faces')\n",
        "  if len(loc) == 1:\n",
        "    enc = face_recognition.face_encodings(pic, known_face_locations=loc)\n",
        "    faces[k] = enc"
      ],
      "execution_count": null,
      "outputs": []
    },
    {
      "cell_type": "code",
      "metadata": {
        "id": "QpTvqBaM-uyN"
      },
      "source": [
        "\n",
        "def extract_faces(im, mode='RGB', model='cnn', upsample=0):\n",
        "    im0=im\n",
        "    if not isinstance(im, PIL.Image.Image):\n",
        "        im = PIL.Image.open(im)\n",
        "    im = np.array(im.convert(mode))\n",
        "\n",
        "    loc = face_recognition.face_locations(im, number_of_times_to_upsample=upsample, model=model)\n",
        "    if len(loc) == 0:\n",
        "        return []\n",
        "\n",
        "    enc = face_recognition.face_encodings(im, known_face_locations=loc)\n",
        "    return enc"
      ],
      "execution_count": null,
      "outputs": []
    },
    {
      "cell_type": "code",
      "metadata": {
        "id": "A4blQ6II-he3"
      },
      "source": [
        "faces2 = {}\n",
        "\n",
        "for k, v in files.items():\n",
        "  enc = extract_faces(v)\n",
        "  if len(enc) == 1:\n",
        "    faces2[k] = enc"
      ],
      "execution_count": null,
      "outputs": []
    },
    {
      "cell_type": "code",
      "metadata": {
        "id": "bAzaK_I5_S5K"
      },
      "source": [
        "facediff2 = {k: cmp_face(supersenya, f) for k, f in faces2.items()}\n",
        "sorted(facediff2.items(), key=itemgetter(1), reverse=True)"
      ],
      "execution_count": null,
      "outputs": []
    },
    {
      "cell_type": "code",
      "metadata": {
        "id": "PEgQ_F7HSV9w"
      },
      "source": [
        "def cmp_face(v1, v2):\n",
        "  if isinstance(v2, list) and len(v2) > 1:\n",
        "    raise Exception('v2 cant be list')\n",
        "  if isinstance(v1, list) and len(v1) > 1:\n",
        "    # return min(np.linalg.norm(x - v2) for x in v1)\n",
        "    return np.mean([np.linalg.norm(x - v2) for x in v1])\n",
        "  return np.linalg.norm(v1 - v2)\n",
        "\n",
        "def same_face(v1, v2, acc=0.6):\n",
        "  return cmp_face(v1, v2) <= acc"
      ],
      "execution_count": null,
      "outputs": []
    },
    {
      "cell_type": "code",
      "metadata": {
        "id": "y-ZWNGUe8_sp"
      },
      "source": [
        ""
      ],
      "execution_count": null,
      "outputs": []
    },
    {
      "cell_type": "code",
      "metadata": {
        "id": "wcPi6vRdgZUi"
      },
      "source": [
        "supersenya = [faces[k][0] for k in (\n",
        "    'photo_1',\n",
        "    'photo_24',\n",
        "    'photo_6',\n",
        "    'photo_21',\n",
        "    'photo_22',\n",
        "    # 'photo_17',\n",
        ")]"
      ],
      "execution_count": null,
      "outputs": []
    },
    {
      "cell_type": "code",
      "metadata": {
        "id": "lLy999y7xqg2"
      },
      "source": [
        "supersenya = [faces[k][0] for k in (\n",
        "    'photo_1',\n",
        "    'photo_24',\n",
        "    'photo_6',\n",
        "    'photo_21',\n",
        "    'photo_22',\n",
        "    # 'photo_17',\n",
        ")]"
      ],
      "execution_count": null,
      "outputs": []
    },
    {
      "cell_type": "code",
      "metadata": {
        "id": "L71HTGAd1pvw"
      },
      "source": [
        "import io"
      ],
      "execution_count": null,
      "outputs": []
    },
    {
      "cell_type": "code",
      "metadata": {
        "id": "_3-MBKkc28sH"
      },
      "source": [
        "from numpy.lib.npyio import _savez as savez_internal"
      ],
      "execution_count": null,
      "outputs": []
    },
    {
      "cell_type": "code",
      "metadata": {
        "id": "gR-OnOcu3z4O"
      },
      "source": [
        "savez_internal('drive/MyDrive/senya/supersenya.npz', [], {'supersenya': np.array(supersenya)}, compress=True)"
      ],
      "execution_count": null,
      "outputs": []
    },
    {
      "cell_type": "code",
      "metadata": {
        "id": "RL3YNETm1Gvb"
      },
      "source": [
        "f = io.BytesIO()\n",
        "savez_internal(f, [], {'supersenya': np.array(supersenya)}, compress=True)\n",
        "print(f.seek(0, io.SEEK_CUR))\n",
        "f.seek(0)"
      ],
      "execution_count": null,
      "outputs": []
    },
    {
      "cell_type": "code",
      "metadata": {
        "id": "vrcApAHx1sp0"
      },
      "source": [
        "l = np.load(f, allow_pickle=False)"
      ],
      "execution_count": null,
      "outputs": []
    },
    {
      "cell_type": "code",
      "metadata": {
        "id": "Yv66THuT2kuU"
      },
      "source": [
        "list(l.keys())"
      ],
      "execution_count": null,
      "outputs": []
    },
    {
      "cell_type": "code",
      "metadata": {
        "id": "wpD1Ad8Qgcfl"
      },
      "source": [
        "facediff = {k: cmp_face(supersenya, f) for k, f in faces.items()}"
      ],
      "execution_count": null,
      "outputs": []
    },
    {
      "cell_type": "code",
      "metadata": {
        "id": "qoMh2OhThVui"
      },
      "source": [
        "vl = {k: cmp_face(supersenya, f) for k, f in verifies.items() if len(f) == 1}\n",
        "{k: v for k, v in vl.items() if v > 0.5}"
      ],
      "execution_count": null,
      "outputs": []
    },
    {
      "cell_type": "code",
      "metadata": {
        "id": "mnKtjTCLNX0l"
      },
      "source": [
        "facediff = {}\n",
        "for k1, k2 in combinations(faces.keys(), 2):\n",
        "  facediff[f'{k1}/{k2}'] = cmp_face(faces[k1][0], faces[k2][0])"
      ],
      "execution_count": null,
      "outputs": []
    },
    {
      "cell_type": "code",
      "metadata": {
        "id": "SZ2PGsNRnSdn"
      },
      "source": [
        "from operator import itemgetter\n",
        "sorted(facediff.items(), key=itemgetter(1), reverse=True)"
      ],
      "execution_count": null,
      "outputs": []
    },
    {
      "cell_type": "code",
      "metadata": {
        "id": "kzlWMtAvR2E6"
      },
      "source": [
        "for f in [10, 12, 2]:\n",
        "  print(f, np.linalg.norm(faces[f'photo_{f}'][0] - faces['photo_24'][0]))"
      ],
      "execution_count": null,
      "outputs": []
    },
    {
      "cell_type": "code",
      "metadata": {
        "id": "Tst5r5GCSIn4"
      },
      "source": [
        "for f in [6, 23]:\n",
        "  print(f, np.linalg.norm(faces[f'photo_{f}'][0] - faces['photo_2'][0]))\n",
        "  print(f, np.linalg.norm(faces[f'photo_{f}'][0] - faces['photo_24'][0]))"
      ],
      "execution_count": null,
      "outputs": []
    },
    {
      "cell_type": "code",
      "metadata": {
        "id": "QALNBO5iV2du"
      },
      "source": [
        "!pip install progressbar2"
      ],
      "execution_count": null,
      "outputs": []
    },
    {
      "cell_type": "code",
      "metadata": {
        "id": "vBxYc4aKV4e6"
      },
      "source": [
        "import progressbar\n",
        "import os\n",
        "from random import randint"
      ],
      "execution_count": null,
      "outputs": []
    },
    {
      "cell_type": "code",
      "metadata": {
        "id": "f2eVlinrV4aE"
      },
      "source": [
        "from collections import Counter\n",
        "import operator"
      ],
      "execution_count": null,
      "outputs": []
    },
    {
      "cell_type": "code",
      "metadata": {
        "id": "AeAsDRjQN2dz"
      },
      "source": [
        "N = 5749\n",
        "mins = []\n",
        "\n",
        "with progressbar.ProgressBar(widgets=[\n",
        "  ' ', progressbar.Counter(), '/%d' % N,\n",
        "  ' ', progressbar.AdaptiveETA(),\n",
        "  ], max_value=N) as bar:\n",
        "  # for i, fn in enumerate(glob.iglob('lfw/*')):\n",
        "  for i, dirname in enumerate(os.scandir('lfw')):\n",
        "    # if randint(0, 2) > 0:\n",
        "    #   continue\n",
        "    for d in os.scandir(dirname.path):\n",
        "      fn = d.path\n",
        "\n",
        "      nam = fn.rsplit('/', 1)[1]\n",
        "      pic = face_recognition.load_image_file(fn)\n",
        "      # loc = face_recognition.face_locations(pic, model='cnn')\n",
        "      loc = face_recognition.face_locations(pic, number_of_times_to_upsample=0, model='cnn')\n",
        "      if len(loc) == 0:\n",
        "        continue\n",
        "\n",
        "      encs = face_recognition.face_encodings(pic, known_face_locations=loc)\n",
        "\n",
        "      for j, enc in enumerate(encs):\n",
        "        if same_face(supersenya, enc, 0.65):\n",
        "          cmps = [cmp_face(x, enc) for x in supersenya]\n",
        "          mi, mv = min(enumerate(cmps), key=operator.itemgetter(1))\n",
        "          print(f'{i} same face: {nam}#{j}:\\n   {mi} {mv} {cmps}')\n",
        "          mins.append(mi)\n",
        "      \n",
        "      break\n",
        "    bar.update(i)\n",
        "\n",
        "len(mins), Counter(mins)"
      ],
      "execution_count": null,
      "outputs": []
    },
    {
      "cell_type": "code",
      "metadata": {
        "id": "Cehu7ETQOja4"
      },
      "source": [
        "verifies = {}\n",
        "\n",
        "for fn in glob.iglob('drive/MyDrive/senya/verify/*'):\n",
        "  im = PIL.Image.open(fn).convert('RGB')\n",
        "  a = np.array(im)\n",
        "  nam = fn.rsplit('/', 1)[1]\n",
        "  loc = face_recognition.face_locations(a, number_of_times_to_upsample=0, model='cnn')\n",
        "  enc = face_recognition.face_encodings(a, known_face_locations=loc)\n",
        "  verifies[nam] = enc"
      ],
      "execution_count": null,
      "outputs": []
    },
    {
      "cell_type": "code",
      "metadata": {
        "id": "5lXXfusWhB-k"
      },
      "source": [
        "for nam, enc in verifies.items():\n",
        "  has_senya = False\n",
        "  for e in enc:\n",
        "    if same_face(faces['photo_2'], e, 0.59) or same_face(faces['photo_24'], e, 0.59):\n",
        "      has_senya = True\n",
        "  if not has_senya:\n",
        "    print(f'{nam}: got {len(loc)} faces but no senya')"
      ],
      "execution_count": null,
      "outputs": []
    },
    {
      "cell_type": "code",
      "metadata": {
        "id": "B9EbgFcchJXa"
      },
      "source": [
        "for nam, enc in verifies.items():\n",
        "  has_senya = False\n",
        "  for e in enc:\n",
        "    if same_face(supersenya, e, 0.5):\n",
        "      has_senya = True\n",
        "  if not has_senya:\n",
        "    print(f'{nam}: got {len(loc)} faces but no senya')"
      ],
      "execution_count": null,
      "outputs": []
    },
    {
      "cell_type": "code",
      "metadata": {
        "id": "qugw3iv8QVVH"
      },
      "source": [
        "fn = 'lfw/Paul_ONeill/Paul_ONeill_0003.jpg'\n",
        "im = PIL.Image.open(fn).convert('RGB')\n",
        "print(face_recognition.face_locations(np.array(im), number_of_times_to_upsample=1, model='cnn'))\n",
        "im"
      ],
      "execution_count": null,
      "outputs": []
    },
    {
      "cell_type": "code",
      "metadata": {
        "id": "XbAcfV4LRcnS"
      },
      "source": [
        "from itertools import combinations\n",
        "from IPython import display\n",
        "import PIL.Image"
      ],
      "execution_count": null,
      "outputs": []
    },
    {
      "cell_type": "code",
      "metadata": {
        "id": "0DhBf-oRULbL"
      },
      "source": [
        "from google.colab import files\n",
        "uploaded = files.upload()"
      ],
      "execution_count": null,
      "outputs": []
    },
    {
      "cell_type": "code",
      "metadata": {
        "id": "tXQV6FFjc9Ki"
      },
      "source": [
        "for fn in ['photo_2021-05-25 05.55.56.jpeg', 'photo_2021-05-25 05.56.00.jpeg', 'photo_2021-05-25 06.03.05.jpeg', 'photo_2021-05-25 06.03.07.jpeg', 'photo_2021-05-25 06.06.39.jpeg']:\n",
        "  im = PIL.Image.open(fn).convert('RGB')\n",
        "  a = np.array(im)\n",
        "  nam = fn.rsplit('/', 1)[-1]\n",
        "  loc = face_recognition.face_locations(a, number_of_times_to_upsample=0, model='cnn')\n",
        "  enc = face_recognition.face_encodings(a, known_face_locations=loc)\n",
        "  has_senya = False\n",
        "  for e in enc:\n",
        "    # if same_face(faces['photo_2'], e, 0.68) or same_face(faces['photo_24'], e, 0.68):\n",
        "    if same_face(supersenya, e, 0.69):\n",
        "      has_senya = True\n",
        "  if not has_senya:\n",
        "    print(f'{nam}: got {len(loc)} faces but no senya')\n",
        "  else:\n",
        "    print(f\"{nam} has senya: {cmp_face(supersenya, e)}\")\n",
        "    display.display(im.resize((s//3 for s in im.size)))\n"
      ],
      "execution_count": null,
      "outputs": []
    },
    {
      "cell_type": "code",
      "metadata": {
        "id": "xOfrCwf7CWpR"
      },
      "source": [
        "try:\n",
        "    import dlib.cuda\n",
        "    try:\n",
        "        dlib.cuda.get_num_devices()\n",
        "        has_cuda = True\n",
        "    except RuntimeError:\n",
        "        has_cuda = False\n",
        "    del dlib.cuda\n",
        "except ImportError:\n",
        "    has_cuda = False"
      ],
      "execution_count": null,
      "outputs": []
    },
    {
      "cell_type": "code",
      "metadata": {
        "id": "RY7u8vGaDE2e"
      },
      "source": [
        "has_cuda"
      ],
      "execution_count": null,
      "outputs": []
    },
    {
      "cell_type": "code",
      "metadata": {
        "id": "F0l1RhMWFDQJ"
      },
      "source": [
        ""
      ],
      "execution_count": null,
      "outputs": []
    }
  ]
}